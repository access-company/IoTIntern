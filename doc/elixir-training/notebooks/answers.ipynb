{
 "cells": [
  {
   "cell_type": "markdown",
   "id": "invisible-search",
   "metadata": {},
   "source": [
    "## 1 Hello elixir"
   ]
  },
  {
   "cell_type": "markdown",
   "id": "flexible-insertion",
   "metadata": {},
   "source": [
    "## 2 Basic syntax"
   ]
  },
  {
   "cell_type": "markdown",
   "id": "solved-mongolia",
   "metadata": {},
   "source": [
    "## 3 Pattern Match"
   ]
  },
  {
   "cell_type": "code",
   "execution_count": 1,
   "id": "western-kitchen",
   "metadata": {},
   "outputs": [
    {
     "data": {
      "text/plain": [
       "true"
      ]
     },
     "execution_count": 1,
     "metadata": {},
     "output_type": "execute_result"
    }
   ],
   "source": [
    "# Exercise 3-1\n",
    "# xに1が, yに4が束縛されるようパターンマッチを完成させてください。\n",
    "[0, x, 2, 3, y, 5] = [0, 1, 2, 3, 4, 5]\n",
    " \n",
    "x == 1 and y == 4"
   ]
  },
  {
   "cell_type": "code",
   "execution_count": 2,
   "id": "increasing-thought",
   "metadata": {},
   "outputs": [
    {
     "data": {
      "text/plain": [
       "true"
      ]
     },
     "execution_count": 2,
     "metadata": {},
     "output_type": "execute_result"
    }
   ],
   "source": [
    "# Exercise 3-2\n",
    "# 3を変数xに束縛\n",
    "%{c: x} = %{a: 1, b: 2, c: 3}\n",
    "\n",
    "x == 3"
   ]
  },
  {
   "cell_type": "code",
   "execution_count": 3,
   "id": "dutch-compression",
   "metadata": {},
   "outputs": [
    {
     "data": {
      "text/plain": [
       "true"
      ]
     },
     "execution_count": 3,
     "metadata": {},
     "output_type": "execute_result"
    }
   ],
   "source": [
    "# Exercise 3-3\n",
    "# :aを変数x，2.3を変数yに拘束（1と\"a\"は何にも拘束しない）\n",
    "[_, x, _, y] = [1, :a, \"a\", 2.3]\n",
    " \n",
    "x == :a and y == 2.3"
   ]
  },
  {
   "cell_type": "code",
   "execution_count": 4,
   "id": "interstate-stadium",
   "metadata": {},
   "outputs": [
    {
     "data": {
      "text/plain": [
       "true"
      ]
     },
     "execution_count": 4,
     "metadata": {},
     "output_type": "execute_result"
    }
   ],
   "source": [
    "# Exercise 3-4\n",
    "# 2を変数x，4を変数y，5～10のリストをzに拘束（1と3は何にも拘束しない）\n",
    "[1, x, 3, y | z] = [1, 2, 3, 4, 5, 6, 7, 8, 9, 10]\n",
    "\n",
    "x == 2 and y == 4 and z == [5, 6, 7, 8, 9, 10]"
   ]
  },
  {
   "cell_type": "code",
   "execution_count": 5,
   "id": "freelance-trigger",
   "metadata": {},
   "outputs": [
    {
     "data": {
      "text/plain": [
       "true"
      ]
     },
     "execution_count": 5,
     "metadata": {},
     "output_type": "execute_result"
    }
   ],
   "source": [
    "# Exercise 3-5\n",
    "# 1を変数x，4を変数yに拘束\n",
    "%{a: %{b: x, d: [_, y, _]}} =  %{a: %{b: 1, c: 2, d: [3, 4, 5]}}\n",
    " \n",
    "x == 1 and y == 4"
   ]
  },
  {
   "cell_type": "code",
   "execution_count": 6,
   "id": "eastern-destiny",
   "metadata": {},
   "outputs": [
    {
     "data": {
      "text/plain": [
       "true"
      ]
     },
     "execution_count": 6,
     "metadata": {},
     "output_type": "execute_result"
    }
   ],
   "source": [
    "# Exercise 3-6\n",
    "# 複雑なパターンマッチを試してみよう\n",
    "\n",
    "request = %{\n",
    "  header: %{\n",
    "    \"x-custom-header\": \"a8d3981b2\"\n",
    "  },\n",
    "  body: %{\n",
    "    first_name: \"Alice\",\n",
    "    last_name:  \"Liddell\",\n",
    "    address: [\n",
    "      \"Westminster\",\n",
    "      \"London\",\n",
    "      \"England\",\n",
    "      \"United Kingdom\"\n",
    "    ]\n",
    "  }\n",
    "}\n",
    "\n",
    "# requestのbodyからfirst_nameとlast_nameを同時に取り出してみよう\n",
    "%{body: %{first_name: first_name, last_name: last_name}} = request\n",
    "first_name == \"Alice\" and last_name == \"Liddell\" "
   ]
  },
  {
   "cell_type": "code",
   "execution_count": 7,
   "id": "wound-minneapolis",
   "metadata": {},
   "outputs": [
    {
     "data": {
      "text/plain": [
       "true"
      ]
     },
     "execution_count": 7,
     "metadata": {},
     "output_type": "execute_result"
    }
   ],
   "source": [
    "# requestのbodyのaddressは地区, 州, 構成国, 主権国家の順に並んでいる。州(state)と構成国(country)だけ取り出してみよう\n",
    "%{body: %{address: [_, state, country, _]}} = request\n",
    "\n",
    "state == \"London\" and country == \"England\""
   ]
  },
  {
   "cell_type": "markdown",
   "id": "vertical-removal",
   "metadata": {},
   "source": [
    "## 4 Function and module"
   ]
  },
  {
   "cell_type": "code",
   "execution_count": 8,
   "id": "deadly-bullet",
   "metadata": {},
   "outputs": [
    {
     "data": {
      "text/plain": [
       "true"
      ]
     },
     "execution_count": 8,
     "metadata": {},
     "output_type": "execute_result"
    }
   ],
   "source": [
    "# Exercise 4-1\n",
    "request = %{\n",
    "  header: %{content_type: \"application/json\"},\n",
    "  body: %{target: 21, message_to_you: \"This may be the answer of everything.\"}\n",
    "}\n",
    "\n",
    "extract_answer = fn %{body: %{target: value}} -> value * 2 end\n",
    "\n",
    "extract_answer.(request) == 42"
   ]
  },
  {
   "cell_type": "code",
   "execution_count": 9,
   "id": "organizational-brooks",
   "metadata": {},
   "outputs": [
    {
     "data": {
      "text/plain": [
       "true"
      ]
     },
     "execution_count": 9,
     "metadata": {},
     "output_type": "execute_result"
    }
   ],
   "source": [
    "# Exercise 4-2\n",
    "func = fn x, y, callback -> callback.(x, y) end\n",
    "\n",
    "add = &(&1 + &2)\n",
    "func.(1, 2, add) == 3"
   ]
  },
  {
   "cell_type": "code",
   "execution_count": 10,
   "id": "nominated-karma",
   "metadata": {},
   "outputs": [
    {
     "data": {
      "text/plain": [
       "true"
      ]
     },
     "execution_count": 10,
     "metadata": {},
     "output_type": "execute_result"
    }
   ],
   "source": [
    "# Exercise 4-3\n",
    "# implement Name module!\n",
    "\n",
    "defmodule Name do\n",
    "  def get_first_name(%{first_name: value}) do\n",
    "    value\n",
    "  end\n",
    "  \n",
    "  def get_last_name(%{last_name: value}) do\n",
    "    value\n",
    "  end\n",
    "  \n",
    "  def get_full_name(name_map) do\n",
    "    \"#{get_first_name(name_map)} #{get_last_name(name_map)}\"\n",
    "  end\n",
    "end\n",
    "\n",
    "name_map = %{first_name: \"Jose\", last_name: \"Valim\"}\n",
    "Name.get_first_name(name_map) == \"Jose\" and\n",
    "Name.get_last_name(name_map) == \"Valim\" and\n",
    "Name.get_full_name(name_map) == \"Jose Valim\""
   ]
  },
  {
   "cell_type": "markdown",
   "id": "embedded-format",
   "metadata": {},
   "source": [
    "## 5 Controle syntax"
   ]
  },
  {
   "cell_type": "code",
   "execution_count": 11,
   "id": "metropolitan-bennett",
   "metadata": {},
   "outputs": [
    {
     "data": {
      "text/plain": [
       "true"
      ]
     },
     "execution_count": 11,
     "metadata": {},
     "output_type": "execute_result"
    }
   ],
   "source": [
    "# Exercise 5-1\n",
    "response = %{status: 400, body: %{message: \"Invalid parameter!\"}}\n",
    "\n",
    "result = case response do\n",
    " %{status: 200, body: body} -> {:ok,    body}\n",
    " %{status: 400}             -> {:error, :bad_request}\n",
    " %{status: 404}             -> {:error, :not_found}\n",
    " %{status: 500}             -> {:error, :internal_error}\n",
    "end\n",
    "\n",
    "result == {:error, :bad_request}"
   ]
  },
  {
   "cell_type": "markdown",
   "id": "noted-tamil",
   "metadata": {},
   "source": [
    "## 6 pipe operator with Enum module"
   ]
  },
  {
   "cell_type": "markdown",
   "id": "useful-energy",
   "metadata": {},
   "source": [
    "## 7 Use hex packages"
   ]
  },
  {
   "cell_type": "code",
   "execution_count": null,
   "id": "forward-kansas",
   "metadata": {},
   "outputs": [],
   "source": []
  }
 ],
 "metadata": {
  "kernelspec": {
   "display_name": "Elixir",
   "language": "Elixir",
   "name": "ielixir"
  },
  "language_info": {
   "codemirror_mode": "elixir",
   "file_extension": "ex",
   "mimetype": "text/x-elixir",
   "name": "elixir",
   "nbconvert_exporter": "",
   "pygments_lexer": "elixir",
   "version": "1.11.2"
  }
 },
 "nbformat": 4,
 "nbformat_minor": 5
}
