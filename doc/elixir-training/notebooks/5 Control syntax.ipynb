{
 "cells": [
  {
   "cell_type": "markdown",
   "id": "spare-robert",
   "metadata": {},
   "source": [
    "# 制御構文\n",
    "\n",
    "Elixirでも手続き型言語と同様、条件分岐(`if`, `cond`, `case`)や例外処理(`try`~`rescue`)のような制御構文がある。\n",
    "\n",
    "ただし、実際にはパターンマッチという強力な仕組みと`case`を組み合わせることで分岐や例外処理を表現することが多い。"
   ]
  },
  {
   "cell_type": "markdown",
   "id": "regional-butler",
   "metadata": {},
   "source": [
    "## case\n",
    "\n",
    "Elixirでは`case`, そして`if`, `cond`はパターンマッチを用いる関数として実装されている。\n",
    "\n",
    "よって, 「条件によって制御を変える」のではなく「引数の値やパターンによって処理を変える」と解釈するのがいい。\n",
    "\n",
    "パターンマッチを行うことから, `case`の各マッチにおいて変数に値を束縛することができる。"
   ]
  },
  {
   "cell_type": "code",
   "execution_count": null,
   "id": "enormous-window",
   "metadata": {},
   "outputs": [],
   "source": [
    "some_list = [0, 1, 2, 3]\n",
    "\n",
    "case some_list do\n",
    " []             -> \"empty!\"\n",
    " [head | _tail] -> \"the first value: #{head}\"\n",
    "end"
   ]
  },
  {
   "cell_type": "code",
   "execution_count": null,
   "id": "viral-height",
   "metadata": {},
   "outputs": [],
   "source": [
    "some_map = %{\n",
    "  a: 0\n",
    "}\n",
    "\n",
    "case some_map do\n",
    "  %{a: value} -> {:ok, \"a is #{value}\"}\n",
    "  %{b: value} -> {:ok, \"b is #{value}\"}\n",
    "  _           -> {:error, \"No expected key\"}\n",
    "end"
   ]
  },
  {
   "cell_type": "markdown",
   "id": "entertaining-width",
   "metadata": {},
   "source": [
    "### 練習問題\n",
    "\n",
    "HTTPレスポンスを表すmapがあり、整数の`status`とmapの`body`を含むとする。\n",
    "\n",
    "case構文を使って、HTTPレスポンスを表すmapのパターンに応じて処理を以下のように分けてみよう。\n",
    "- `status`が200のとき、`:ok`と`body`の組のtupleを作る\n",
    "- `status`が400のとき、`:error`と`:bad_resuest`の組のtupleを作る\n",
    "- `status`が404のとき、`:error`と`:not_found`の組のtupleを作る\n",
    "- `status`が500のとき、`:error`と`:internal_error`の組のtupleを作る"
   ]
  },
  {
   "cell_type": "code",
   "execution_count": null,
   "id": "french-dodge",
   "metadata": {},
   "outputs": [],
   "source": [
    "# Exercise 5-1\n",
    "response = %{status: 400, body: %{message: \"Invalid parameter!\"}}\n",
    "\n",
    "result = case response do\n",
    " # implement me!\n",
    "end\n",
    "\n",
    "result == {:error, :bad_request}"
   ]
  },
  {
   "cell_type": "markdown",
   "id": "vocational-vienna",
   "metadata": {},
   "source": [
    "マッチの際に`when`による[guard構文](https://hexdocs.pm/elixir/guards.html#content)を用いることで, さらに細かいパターンマッチを行うことができる。\n",
    "\n",
    "ただし, guardに用いる条件はコンパイル時に決まっている必要があり, マクロのみが使用可能。\n",
    "(つまり任意の式や関数を用いることができるわけではない)"
   ]
  },
  {
   "cell_type": "code",
   "execution_count": null,
   "id": "technical-still",
   "metadata": {},
   "outputs": [],
   "source": [
    "some_list = [0, 1, 2, 3]\n",
    "\n",
    "case some_list do\n",
    " []                              -> \"empty!\"\n",
    " [head | _] when is_number(head) -> \"#{head} is a number\"\n",
    " [head | _] when is_atom(head)   -> \"#{head} is an atom\"\n",
    " [head | _]                      -> \"#{head} is unexpected type\"\n",
    "end"
   ]
  },
  {
   "cell_type": "markdown",
   "id": "progressive-humidity",
   "metadata": {},
   "source": [
    "case 式は入れ子にすることもできる。"
   ]
  },
  {
   "cell_type": "code",
   "execution_count": null,
   "id": "classical-soviet",
   "metadata": {},
   "outputs": [],
   "source": [
    "some_map = %{\n",
    "  a: %{\n",
    "    answer: 42\n",
    "  }\n",
    "}\n",
    "\n",
    "case some_map do\n",
    "  %{b: inner} -> \n",
    "    inner\n",
    "  %{a: inner} ->\n",
    "    case inner do\n",
    "      %{hello: world}   -> world\n",
    "      %{answer: answer} -> answer\n",
    "    end\n",
    "end"
   ]
  },
  {
   "cell_type": "markdown",
   "id": "adaptive-lounge",
   "metadata": {},
   "source": [
    "## ifとcond\n",
    "\n",
    "Elixirでは基本的に, `if`は結果がbooleanとなる式と共に用いる。\n",
    "\n",
    "`cond`は`if`の条件が複数ある場合に用いる構文である。\n",
    "\n",
    "ほとんどの場合, パターンマッチと`case`構文で事足りるはずなので, ここではあえて取り上げない。"
   ]
  }
 ],
 "metadata": {
  "kernelspec": {
   "display_name": "Elixir",
   "language": "Elixir",
   "name": "ielixir"
  },
  "language_info": {
   "codemirror_mode": "elixir",
   "file_extension": "ex",
   "mimetype": "text/x-elixir",
   "name": "elixir",
   "nbconvert_exporter": "",
   "pygments_lexer": "elixir",
   "version": "1.11.2"
  }
 },
 "nbformat": 4,
 "nbformat_minor": 5
}
