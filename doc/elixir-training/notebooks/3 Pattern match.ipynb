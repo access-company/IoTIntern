{
 "cells": [
  {
   "cell_type": "markdown",
   "id": "visible-aurora",
   "metadata": {},
   "source": [
    "# パターンマッチ\n",
    "\n",
    "- Elixirの強力な構文\n",
    "- Elixirにおける`=`演算子はマッチ演算子と呼ばれ、手続き型の言語の代入演算子とは概念が異なる"
   ]
  },
  {
   "cell_type": "markdown",
   "id": "expressed-asian",
   "metadata": {},
   "source": [
    "## マッチ演算子\n",
    "\n",
    "- 左辺と右辺をマッチさせる\n",
    "  - 変数を含まない値同士でマッチ可能\n",
    "- 左辺に変数が含まれる場合、右辺とマッチするよう値に「束縛」される\n",
    "- 左辺と右辺がマッチしない場合、「MatchError」"
   ]
  },
  {
   "cell_type": "code",
   "execution_count": null,
   "id": "independent-stevens",
   "metadata": {},
   "outputs": [],
   "source": [
    "# マッチが成功する例\n",
    "0 = 0\n",
    "\"a\" = \"a\"\n",
    ":a = :a\n",
    "[0, 1, 2] = [0, 1, 2]\n",
    "%{a: 0, b: 1} = %{a: 0, b: 1}\n",
    "%{a: 0} = %{a: 0, b: 1}"
   ]
  },
  {
   "cell_type": "markdown",
   "id": "recorded-variance",
   "metadata": {},
   "source": [
    "以下, MatchErrorとなる例"
   ]
  },
  {
   "cell_type": "code",
   "execution_count": null,
   "id": "alleged-mauritius",
   "metadata": {},
   "outputs": [],
   "source": [
    "0 = 1"
   ]
  },
  {
   "cell_type": "code",
   "execution_count": null,
   "id": "literary-covering",
   "metadata": {},
   "outputs": [],
   "source": [
    "[0, 1] = [0, 1, 2]"
   ]
  },
  {
   "cell_type": "code",
   "execution_count": null,
   "id": "acting-harrison",
   "metadata": {},
   "outputs": [],
   "source": [
    "[0, 1, 2] = [0, 1]"
   ]
  },
  {
   "cell_type": "code",
   "execution_count": null,
   "id": "quiet-eagle",
   "metadata": {},
   "outputs": [],
   "source": [
    "%{a: 0, b: 1} = %{a: 0}"
   ]
  },
  {
   "cell_type": "markdown",
   "id": "composed-billion",
   "metadata": {},
   "source": [
    "### マッチ演算子と変数束縛\n",
    "\n",
    "- 変数はマッチ演算子により、右辺にマッチするよう値に束縛される\n",
    "  - 変数に値を束縛してもマッチできない場合、やはりMatchError\n"
   ]
  },
  {
   "cell_type": "code",
   "execution_count": null,
   "id": "pointed-messaging",
   "metadata": {},
   "outputs": [],
   "source": [
    "# 一番最初の時点ではxは定義されていないし、何の値にも束縛されていない\n",
    "x \n",
    "# => (CompileError) console:2 \"undefined function x/0\""
   ]
  },
  {
   "cell_type": "code",
   "execution_count": null,
   "id": "arbitrary-supplement",
   "metadata": {},
   "outputs": [],
   "source": [
    "# 0とマッチさせると、xに0が束縛されていれば両辺がマッチする。よってxに0が束縛される\n",
    "x = 0\n",
    "\n",
    "x"
   ]
  },
  {
   "cell_type": "code",
   "execution_count": null,
   "id": "valued-interface",
   "metadata": {},
   "outputs": [],
   "source": [
    "x = 0\n",
    "0 = x # xは0で束縛されているのでマッチが成功"
   ]
  },
  {
   "cell_type": "code",
   "execution_count": null,
   "id": "biblical-concrete",
   "metadata": {},
   "outputs": [],
   "source": [
    "x = 0\n",
    "1 = x # => %MatchError{term: 0} xは既に0に束縛されているので、1とはマッチしない"
   ]
  },
  {
   "cell_type": "markdown",
   "id": "narrative-relay",
   "metadata": {},
   "source": [
    "Elixirでは値は不変(immutable)"
   ]
  },
  {
   "cell_type": "code",
   "execution_count": null,
   "id": "central-leave",
   "metadata": {},
   "outputs": [],
   "source": [
    "array1 = [0, 1, 2]\n",
    "array2 = array1\n",
    "array2 = array2 ++ [3]\n",
    "\n",
    "# 以下は true か false か? 予想してから実行してみよう\n",
    "array1 == [0, 1, 2] and array2 == [0, 1, 2, 3]"
   ]
  },
  {
   "cell_type": "markdown",
   "id": "relative-miracle",
   "metadata": {},
   "source": [
    "### Listに対するパターンマッチ"
   ]
  },
  {
   "cell_type": "code",
   "execution_count": null,
   "id": "cultural-reception",
   "metadata": {},
   "outputs": [],
   "source": [
    "# 要素が全て等しいのでマッチが成功\n",
    "\n",
    "l = [0, 1, 2, 3]\n",
    "[0, 1, 2, 3] = l"
   ]
  },
  {
   "cell_type": "code",
   "execution_count": null,
   "id": "english-water",
   "metadata": {},
   "outputs": [],
   "source": [
    "# 変数が含まれる場合、右辺にマッチするよう値が束縛される\n",
    "[a, b, c, d] = [0, 1, 2, 3]\n",
    "\n",
    "\"#{a}, #{b}, #{c}, #{d}\""
   ]
  },
  {
   "cell_type": "code",
   "execution_count": null,
   "id": "italian-occasion",
   "metadata": {},
   "outputs": [],
   "source": [
    "# 右辺に変数が含まれる場合、右辺の変数に束縛されている値にマッチする\n",
    "x = 10\n",
    "y = 20\n",
    "[a, b, c, d] = [0, x, 2, y]\n",
    "\n",
    "\"#{a}, #{b}, #{c}, #{d}\""
   ]
  },
  {
   "cell_type": "markdown",
   "id": "periodic-crazy",
   "metadata": {},
   "source": [
    "Exercise 3-1: List から必要な値を変数に束縛して取り出してみよう。"
   ]
  },
  {
   "cell_type": "code",
   "execution_count": null,
   "id": "promotional-candy",
   "metadata": {},
   "outputs": [],
   "source": [
    "# xに1が, yに4が束縛されるようパターンマッチを完成させてよう。\n",
    "= [0, 1, 2, 3, 4, 5]\n",
    " \n",
    "x == 1 and y == 4 # true になること。"
   ]
  },
  {
   "cell_type": "markdown",
   "id": "moral-architect",
   "metadata": {},
   "source": [
    "#### 不要な値を無視する\n",
    "\n",
    "Elixirにおいて, アンダースコア`_`やアンダースコアで始まる変数は, コンパイラに「使用しない」変数であることを表す。\n",
    "\n",
    "Elixirでは未使用の変数があるとコンパイル時にwarningが発せられる。\n",
    "\n",
    "アンダースコアを用いて使用しない変数であると明示すれば, warningが解消される。\n",
    "\n",
    "パターンマッチでもマッチはさせるが使用しない場合に, アンダースコアを用いることができる。"
   ]
  },
  {
   "cell_type": "code",
   "execution_count": null,
   "id": "labeled-pledge",
   "metadata": {},
   "outputs": [],
   "source": [
    "# Listの先頭から3番目の値だけ取り出したいとき。1番目と2番目, 4番目は何でもいい\n",
    "[_, _, x, _] = [0, 1, 2, 3]\n",
    "\n",
    "x"
   ]
  },
  {
   "cell_type": "markdown",
   "id": "conscious-portrait",
   "metadata": {},
   "source": [
    "Listに対するパターンマッチでは特有のマッチ記法がある。\n",
    "\n",
    "`[a | b]` の `a` はリストの先頭、`b` はその後続のリストにマッチする。"
   ]
  },
  {
   "cell_type": "code",
   "execution_count": null,
   "id": "supreme-luther",
   "metadata": {},
   "outputs": [],
   "source": [
    "[head | tail] = [0, 1, 2, 3, 4]\n",
    "\n",
    "head == 0 and tail == [1, 2, 3, 4]"
   ]
  },
  {
   "cell_type": "markdown",
   "id": "fantastic-fields",
   "metadata": {},
   "source": [
    "要素が1つだと, `tail` は空のリストにマッチする。"
   ]
  },
  {
   "cell_type": "code",
   "execution_count": null,
   "id": "governmental-treasury",
   "metadata": {},
   "outputs": [],
   "source": [
    "[head | tail] = [0]\n",
    "\n",
    "head == 0 and tail == []"
   ]
  },
  {
   "cell_type": "markdown",
   "id": "short-mountain",
   "metadata": {},
   "source": [
    "空のリストにマッチさせようとすると, MatchError"
   ]
  },
  {
   "cell_type": "code",
   "execution_count": null,
   "id": "burning-producer",
   "metadata": {},
   "outputs": [],
   "source": [
    "[head | tail] = []\n",
    "# => %MatchError{term: []}"
   ]
  },
  {
   "cell_type": "markdown",
   "id": "third-rouge",
   "metadata": {},
   "source": [
    "先頭から$n$個の要素に対してマッチすることも可能。\n",
    "\n",
    "反対に、最後から$n$個のマッチは不可能。"
   ]
  },
  {
   "cell_type": "code",
   "execution_count": null,
   "id": "dressed-hudson",
   "metadata": {},
   "outputs": [],
   "source": [
    "[first, second | tail] = [0, 1, 2, 3, 4]\n",
    "\n",
    "first  == 0 and\n",
    "second == 1 and\n",
    "tail   == [2, 3, 4]"
   ]
  },
  {
   "cell_type": "code",
   "execution_count": null,
   "id": "maritime-athens",
   "metadata": {},
   "outputs": [],
   "source": [
    "[head | last_one_before, last] = [0, 1, 2] # => CompileError"
   ]
  },
  {
   "cell_type": "markdown",
   "id": "reasonable-insert",
   "metadata": {},
   "source": [
    "Listの結合演算子`++`を用いてパターンマッチさせることも可能。\n",
    "\n",
    "ただし、変数を用いる場合は`++`の右辺にしか置けない。"
   ]
  },
  {
   "cell_type": "code",
   "execution_count": null,
   "id": "stretch-concert",
   "metadata": {},
   "outputs": [],
   "source": [
    "[0] ++ rest = [0, 1, 2, 3]\n",
    "rest"
   ]
  },
  {
   "cell_type": "code",
   "execution_count": null,
   "id": "august-bible",
   "metadata": {},
   "outputs": [],
   "source": [
    "head ++ [1, 2, 3] = [0, 1, 2, 3]\n",
    "# => CompileError"
   ]
  },
  {
   "cell_type": "markdown",
   "id": "affecting-puzzle",
   "metadata": {},
   "source": [
    "### Tupleに対するパターンマッチ\n",
    "\n",
    "- 要素の数が一致する必要がある"
   ]
  },
  {
   "cell_type": "code",
   "execution_count": null,
   "id": "sapphire-binary",
   "metadata": {},
   "outputs": [],
   "source": [
    "{a, b, c} = {1, \"a\", :atom}"
   ]
  },
  {
   "cell_type": "code",
   "execution_count": null,
   "id": "fuzzy-sweet",
   "metadata": {},
   "outputs": [],
   "source": [
    "{a, b} = {1, \"a\", :atom}"
   ]
  },
  {
   "cell_type": "markdown",
   "id": "several-matter",
   "metadata": {},
   "source": [
    "よくあるのは、処理の成功/失敗によって処理を切り替えたい場合。\n",
    "- Elixir では成功/失敗をそれぞれ`:ok`、`:error`とのタプルを返すことで表現することが多い"
   ]
  },
  {
   "cell_type": "code",
   "execution_count": null,
   "id": "lyric-depth",
   "metadata": {},
   "outputs": [],
   "source": [
    "result = {:ok, \"succeeded\"}\n",
    "\n",
    "{:ok, msg} = result\n",
    "\"Operation #{msg}\""
   ]
  },
  {
   "cell_type": "markdown",
   "id": "actual-sugar",
   "metadata": {},
   "source": [
    "### Mapに対するパターンマッチ\n",
    "\n",
    "- 左辺は右辺のサブセットであればいい\n",
    "- ネストしたマップにもパターンマッチ可能"
   ]
  },
  {
   "cell_type": "code",
   "execution_count": null,
   "id": "innocent-kinase",
   "metadata": {},
   "outputs": [],
   "source": [
    "%{x: value} = %{x: 0, y: 1, z: 2}\n",
    "value"
   ]
  },
  {
   "cell_type": "code",
   "execution_count": null,
   "id": "known-quick",
   "metadata": {},
   "outputs": [],
   "source": [
    "%{:x => value} = %{x: 0, y: 1, z: 2}\n",
    "value"
   ]
  },
  {
   "cell_type": "code",
   "execution_count": null,
   "id": "breathing-fellowship",
   "metadata": {},
   "outputs": [],
   "source": [
    "%{no_key: value} = %{x: 0, y: 1, z: 2}"
   ]
  },
  {
   "cell_type": "code",
   "execution_count": null,
   "id": "alpha-alias",
   "metadata": {},
   "outputs": [],
   "source": [
    "nested_map = %{\n",
    "  outer_universe: %{\n",
    "    universe: %{\n",
    "      hello: \"universe!\",\n",
    "      answer_of_everything: 42\n",
    "    }\n",
    "  }\n",
    "}\n",
    "\n",
    "%{outer_universe: %{universe: %{hello: target}}} = nested_map\n",
    "target"
   ]
  },
  {
   "cell_type": "code",
   "execution_count": null,
   "id": "broadband-timing",
   "metadata": {},
   "outputs": [],
   "source": [
    "# マッチ演算子をネストさせることもできる\n",
    "%{\n",
    "  outer_universe: %{\n",
    "    universe: %{\n",
    "      answer_of_everything: the_answer\n",
    "    } = universe\n",
    "  }\n",
    "} = nested_map\n",
    "\n",
    "IO.inspect universe\n",
    "IO.inspect the_answer"
   ]
  },
  {
   "cell_type": "markdown",
   "id": "american-young",
   "metadata": {},
   "source": [
    "### 文字列に対するパターンマッチ\n",
    "\n",
    "文字列の結合に `<>` という演算子を使用できることを[2_basic_syntax #特徴的な演算子](2_basic_syntax.ipynb#特徴的な演算子)で紹介したが、この演算子はパターンマッチにも使用できる。\n",
    "\n",
    "ただし、変数を用いる場合は`<>`の右辺にしか置けない。  "
   ]
  },
  {
   "cell_type": "code",
   "execution_count": null,
   "id": "descending-treasury",
   "metadata": {},
   "outputs": [],
   "source": [
    "\"Hello \" <> target = \"Hello world!\"\n",
    "\n",
    "IO.inspect target"
   ]
  },
  {
   "cell_type": "code",
   "execution_count": null,
   "id": "typical-prisoner",
   "metadata": {},
   "outputs": [],
   "source": [
    "greet <> \" world\" = \"Hello world!\"\n",
    "# => ArgumentError"
   ]
  },
  {
   "cell_type": "markdown",
   "id": "naked-check",
   "metadata": {},
   "source": [
    "### pin演算子\n",
    "\n",
    "- 変数は通常、別の値にマッチさせると新しい値に束縛される\n",
    "- pin演算子を使うと、変数が束縛されている値に対してマッチするか試すことができる"
   ]
  },
  {
   "cell_type": "code",
   "execution_count": null,
   "id": "integral-january",
   "metadata": {},
   "outputs": [],
   "source": [
    "target_1 = %{greet: \"Hello\", name: \"world\"}\n",
    "target_2 = %{greet: \"こんにちは\", name: \"世界\"}"
   ]
  },
  {
   "cell_type": "code",
   "execution_count": null,
   "id": "southwest-nashville",
   "metadata": {},
   "outputs": [],
   "source": [
    "# pinned_greet は場合によって動的に変わるとする\n",
    "# greet: が pinned_greet と等しいときだけパターンマッチが成功するようにしたい\n",
    "pinned_greet = \"Hello\"\n",
    "\n",
    "%{greet: pinned_greet, name: to_be_world} = target_1\n",
    "pinned_greet == \"Hello\" and to_be_world == \"world\""
   ]
  },
  {
   "cell_type": "code",
   "execution_count": null,
   "id": "capital-imaging",
   "metadata": {},
   "outputs": [],
   "source": [
    "pinned_greet = \"Hello\"\n",
    "\n",
    "try do\n",
    "  %{greet: pinned_greet, name: to_be_world} = target_2\n",
    "  pinned_greet == \"こんにちは\" and to_be_world == \"世界\"\n",
    "  # MatchError を期待しているが…果たして?\n",
    "rescue\n",
    "  MatchError -> \"😲\"\n",
    "end"
   ]
  },
  {
   "cell_type": "markdown",
   "id": "guilty-stretch",
   "metadata": {},
   "source": [
    "pinned_greet は変数なので, パターンマッチのたび別の値が束縛されるのだった。\n",
    "\n",
    "pin 演算子は, 変数が新しい値に束縛されないようにする。"
   ]
  },
  {
   "cell_type": "code",
   "execution_count": null,
   "id": "authentic-trick",
   "metadata": {},
   "outputs": [],
   "source": [
    "pinned_greet = \"Hello\"\n",
    "\n",
    "%{greet: ^pinned_greet, name: to_be_world} = target_1 # %{greet: \"Hello\", name: to_be_world} = target_1 と等価だ\n",
    "pinned_greet == \"Hello\" and to_be_world == \"world\""
   ]
  },
  {
   "cell_type": "code",
   "execution_count": null,
   "id": "greek-attraction",
   "metadata": {},
   "outputs": [],
   "source": [
    "pinned_greet = \"Hello\"\n",
    "\n",
    "try do\n",
    "  %{greet: ^pinned_greet, name: to_be_world} = target_2\n",
    "  to_be_world == \"世界\"\n",
    "  # 今度こそ MatchError になるだろう\n",
    "rescue\n",
    "  MatchError -> \"😃\"\n",
    "end"
   ]
  },
  {
   "cell_type": "markdown",
   "id": "ethical-thursday",
   "metadata": {},
   "source": [
    "## 練習問題\n",
    "\n",
    "パターンマッチで変数に値を束縛し, 論理式が`true`になるようにしてみよう。"
   ]
  },
  {
   "cell_type": "code",
   "execution_count": null,
   "id": "rising-recorder",
   "metadata": {},
   "outputs": [],
   "source": [
    "# Exercise 3-2\n",
    "# 3を変数xに束縛\n",
    " = %{a: 1, b: 2, c: 3}\n",
    "\n",
    "x == 3"
   ]
  },
  {
   "cell_type": "code",
   "execution_count": null,
   "id": "wired-eligibility",
   "metadata": {},
   "outputs": [],
   "source": [
    "# Exercise 3-3\n",
    "# :aを変数x，2.3を変数yに拘束（1と\"a\"は何にも拘束しない）\n",
    " = [1, :a, \"a\", 2.3]\n",
    " \n",
    "x == :a and y == 2.3"
   ]
  },
  {
   "cell_type": "code",
   "execution_count": null,
   "id": "sound-avenue",
   "metadata": {},
   "outputs": [],
   "source": [
    "# Exercise 3-4\n",
    "# 2を変数x，4を変数y，5～10のリストをzに拘束（1と3は何にも拘束しない）\n",
    " = [1, 2, 3, 4, 5, 6, 7, 8, 9, 10]\n",
    "\n",
    "x == 2 and y == 4 and z == [5, 6, 7, 8, 9, 10]"
   ]
  },
  {
   "cell_type": "code",
   "execution_count": null,
   "id": "wireless-press",
   "metadata": {},
   "outputs": [],
   "source": [
    "# Exercise 3-5\n",
    "# 1を変数x，4を変数yに拘束\n",
    " =  %{a: %{b: 1, c: 2, d: [3, 4, 5]}}\n",
    " \n",
    "x == 1 and y == 4"
   ]
  },
  {
   "cell_type": "code",
   "execution_count": null,
   "id": "progressive-spectrum",
   "metadata": {},
   "outputs": [],
   "source": [
    "# Exercise 3-6\n",
    "# 複雑なパターンマッチを試してみよう\n",
    "\n",
    "request = %{\n",
    "  header: %{\n",
    "    \"x-custom-header\": \"a8d3981b2\"\n",
    "  },\n",
    "  body: %{\n",
    "    first_name: \"Alice\",\n",
    "    last_name:  \"Liddell\",\n",
    "    address: [\n",
    "      \"Westminster\",\n",
    "      \"London\",\n",
    "      \"England\",\n",
    "      \"United Kingdom\"\n",
    "    ]\n",
    "  }\n",
    "}\n",
    "\n",
    "# requestのbodyからfirst_nameとlast_nameを同時に取り出してみよう\n",
    " = request\n",
    "\n",
    "first_name == \"Alice\" and last_name == \"Liddell\" "
   ]
  },
  {
   "cell_type": "code",
   "execution_count": null,
   "id": "nominated-warren",
   "metadata": {},
   "outputs": [],
   "source": [
    "# Exercise 3-7\n",
    "# requestのbodyのaddressは地区, 州, 構成国, 主権国家の順に並んでいる。州(state)と構成国(country)だけ取り出してみよう\n",
    " = request\n",
    "\n",
    "state == \"London\" && country == \"England\""
   ]
  }
 ],
 "metadata": {
  "kernelspec": {
   "display_name": "Elixir",
   "language": "Elixir",
   "name": "ielixir"
  },
  "language_info": {
   "codemirror_mode": "elixir",
   "file_extension": "ex",
   "mimetype": "text/x-elixir",
   "name": "elixir",
   "nbconvert_exporter": "",
   "pygments_lexer": "elixir",
   "version": "1.11.2"
  }
 },
 "nbformat": 4,
 "nbformat_minor": 5
}
