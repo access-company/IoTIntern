{
 "cells": [
  {
   "cell_type": "markdown",
   "id": "former-integral",
   "metadata": {},
   "source": [
    "# Elixirの関数とモジュール\n",
    "\n",
    "Elixirは関数型言語で、関数は基本的な型の一つでもある。\n",
    "\n",
    "\n",
    "- Elixirの関数は2種類\n",
    "  - コードのどこにでも書ける無名関数(anonymous function)\n",
    "  - モジュール(module)に属する必要がある名前付き関数(named function)\n",
    "  "
   ]
  },
  {
   "cell_type": "markdown",
   "id": "advised-commodity",
   "metadata": {},
   "source": [
    "## 無名関数\n",
    "\n",
    "モジュールに属さない関数。\n",
    "変数に束縛することで使い回すことができる。\n",
    "\n",
    "- 無名関数の定義方法\n",
    "- 無名関数は, 内部的には定義時に返る`#Function<43.97283095/2 in :erl_eval.expr/5>`のようなハッシュで識別されている\n"
   ]
  },
  {
   "cell_type": "code",
   "execution_count": null,
   "id": "exempt-record",
   "metadata": {},
   "outputs": [],
   "source": [
    "# 引数を1つとる関数\n",
    "fn x -> x * 2 end"
   ]
  },
  {
   "cell_type": "code",
   "execution_count": null,
   "id": "rolled-antibody",
   "metadata": {},
   "outputs": [],
   "source": [
    "# 引数を2つとる関数\n",
    "fn x, y -> x + y end"
   ]
  },
  {
   "cell_type": "markdown",
   "id": "german-animal",
   "metadata": {},
   "source": [
    "- 無名関数を変数に束縛できる\n",
    "- 無名関数の呼び出し時は, `add.(1, 2)`のように`.()`とカッコの前にピリオドが必要\n",
    "  - 名前付き関数呼び出しの`()`が省略できる仕様との間で曖昧さを回避するため\n",
    "  - `IO.inspect \"hello\"`は`IO` moduleの名前付き関数`puts`を呼び出しているので括弧を省略できている\n",
    "  - 丁寧に書くと`IO.inspect(\"hello\")`"
   ]
  },
  {
   "cell_type": "code",
   "execution_count": null,
   "id": "committed-learning",
   "metadata": {},
   "outputs": [],
   "source": [
    "add = fn (x, y) -> x + y end\n",
    "\n",
    "add.(1, 2)"
   ]
  },
  {
   "cell_type": "markdown",
   "id": "designed-accreditation",
   "metadata": {},
   "source": [
    "引数名を省略する記法もある\n",
    "- `&()`で囲み, `&1`, `&2`, ... で第1引数から順に参照する\n",
    "- 後述の高階関数に単純な関数を与える際などに使うことがある"
   ]
  },
  {
   "cell_type": "code",
   "execution_count": null,
   "id": "going-channel",
   "metadata": {},
   "outputs": [],
   "source": [
    "# fn x -> x * 2 end と同等\n",
    "&(&1 * 2)"
   ]
  },
  {
   "cell_type": "markdown",
   "id": "competent-throat",
   "metadata": {},
   "source": [
    "### 引数のパターンマッチ\n",
    "\n",
    "パターンマッチが成功した時、処理が実行される。\n",
    "\n",
    "関数の処理に必要な値だけ取り出すことができ、**とても強力**。"
   ]
  },
  {
   "cell_type": "code",
   "execution_count": null,
   "id": "opposed-average",
   "metadata": {},
   "outputs": [],
   "source": [
    "take_x = fn %{x: value} -> value end\n",
    "\n",
    "take_x.(%{a: 1, b: 2, x: 24, y: 25, z: 26})"
   ]
  },
  {
   "cell_type": "code",
   "execution_count": null,
   "id": "rough-forth",
   "metadata": {},
   "outputs": [],
   "source": [
    "# 引数自体も使いたいときは以下のように書く\n",
    "# map に %{a: 1, b: 2, x: 24, y: 25, z: 26} が束縛されたうえで %{x: value} のパターンマッチが行われる\n",
    "take_x = fn %{x: value} = map -> value + map.a end\n",
    "\n",
    "take_x.(%{a: 1, b: 2, x: 24, y: 25, z: 26})"
   ]
  },
  {
   "cell_type": "markdown",
   "id": "veterinary-grocery",
   "metadata": {},
   "source": [
    "### 練習問題\n",
    "\n",
    "`request`はHTTPリクエストの内容を模したmapである。\n",
    "引数のパターンマッチでリクエストボディから`target`パラメータを取り出し, それを2倍して返す関数を定義してみよう。"
   ]
  },
  {
   "cell_type": "code",
   "execution_count": null,
   "id": "creative-builder",
   "metadata": {},
   "outputs": [],
   "source": [
    "# Exercise 4-1\n",
    "request = %{\n",
    "  header: %{content_type: \"application/json\"},\n",
    "  body: %{target: 21, message_to_you: \"This may be the answer of everything.\"}\n",
    "}\n",
    "\n",
    "extract_answer = # implement me!\n",
    "\n",
    "extract_answer.(request) == 42"
   ]
  },
  {
   "cell_type": "markdown",
   "id": "recognized-annual",
   "metadata": {},
   "source": [
    "関数は複数の式を持てる。\n",
    "\n",
    "`return`という構文は無く、最後の式の値が返り値となる。"
   ]
  },
  {
   "cell_type": "code",
   "execution_count": null,
   "id": "meaningful-yukon",
   "metadata": {},
   "outputs": [],
   "source": [
    "multilines_add = fn (x, y) ->\n",
    "  x * y\n",
    "  IO.inspect \"1st arg is #{x}\"\n",
    "  IO.inspect \"2nd arg is #{x}\"\n",
    "  x + y\n",
    "end\n",
    "\n",
    "multilines_add.(2, 3)"
   ]
  },
  {
   "cell_type": "markdown",
   "id": "upper-election",
   "metadata": {},
   "source": [
    "これはつまり、**Early returnはできない**ということ。\n",
    "\n",
    "一応、Elixirでは後で出てくる`case`式や`if`式でearly return相当のことはできる。\n",
    "\n",
    "ただしElixirでは、パターンマッチや関数の多重定義が可能なおかげで、early returnができなくて困ることはあまりない。"
   ]
  },
  {
   "cell_type": "code",
   "execution_count": null,
   "id": "linear-assets",
   "metadata": {},
   "outputs": [],
   "source": [
    "# Early returnができないので普通に書くとif式がネストする。\n",
    "# そもそも関数内で条件分岐しようとすると、処理の本体以外のコードが増えてしまう\n",
    "\n",
    "something_do_with_positive_int = fn x ->\n",
    "  if not is_integer(x) do\n",
    "    {:error, :not_integer}\n",
    "  else\n",
    "    if x <= 0 do\n",
    "      {:error, :not_positive}\n",
    "    else\n",
    "      IO.puts \"処理の本体\"\n",
    "      IO.puts \"実際はいろいろなことを行う\"\n",
    "      {:ok, x * 2}\n",
    "    end\n",
    "  end\n",
    "end"
   ]
  },
  {
   "cell_type": "code",
   "execution_count": null,
   "id": "extensive-diversity",
   "metadata": {},
   "outputs": [],
   "source": [
    "something_do_with_positive_int.(1)"
   ]
  },
  {
   "cell_type": "code",
   "execution_count": null,
   "id": "desperate-growing",
   "metadata": {},
   "outputs": [],
   "source": [
    "something_do_with_positive_int.(-1)"
   ]
  },
  {
   "cell_type": "markdown",
   "id": "offensive-headset",
   "metadata": {},
   "source": [
    "ここでは詳しくは説明しないが、パターンマッチと関数の多重定義を用いることで制御構造を排除できる。\n",
    "\n",
    "- 引数のパターンによって呼び出す処理を変える\n",
    "- `when`を用いた[guard構文](https://hexdocs.pm/elixir/guards.html)で引数の型や値に応じて処理を変える"
   ]
  },
  {
   "cell_type": "code",
   "execution_count": null,
   "id": "appointed-weapon",
   "metadata": {},
   "outputs": [],
   "source": [
    "# 引数のmapのパターンに応じて3種類の処理を定義\n",
    "switch_by_action = fn\n",
    "  %{add: x, target: target} -> {:ok, target + x}\n",
    "  %{double: target}         -> {:ok, target * 2}\n",
    "  _                         -> {:error, :bad_action}\n",
    "end"
   ]
  },
  {
   "cell_type": "code",
   "execution_count": null,
   "id": "concerned-iraqi",
   "metadata": {},
   "outputs": [],
   "source": [
    "switch_by_action.(%{add: 1, target: 0})"
   ]
  },
  {
   "cell_type": "code",
   "execution_count": null,
   "id": "asian-dating",
   "metadata": {},
   "outputs": [],
   "source": [
    "switch_by_action.(%{double: 1})"
   ]
  },
  {
   "cell_type": "code",
   "execution_count": null,
   "id": "demonstrated-hybrid",
   "metadata": {},
   "outputs": [],
   "source": [
    "switch_by_action.(%{power: 2, target: 2})"
   ]
  },
  {
   "cell_type": "markdown",
   "id": "sonic-sunrise",
   "metadata": {},
   "source": [
    "`something_do_with_positive_int`の、guard構文を用いた多重定義バージョン"
   ]
  },
  {
   "cell_type": "code",
   "execution_count": null,
   "id": "increasing-radical",
   "metadata": {},
   "outputs": [],
   "source": [
    "something_do_with_positive_int = fn\n",
    "  x when not is_integer(x) -> {:error, :not_integer}\n",
    "  x when x <= 0            -> {:error, :not_positive}\n",
    "  x                        -> \n",
    "    IO.puts \"処理の本体\"\n",
    "    IO.puts \"実際はいろいろなことを行う\"\n",
    "    {:ok, x * 2}\n",
    "end"
   ]
  },
  {
   "cell_type": "code",
   "execution_count": null,
   "id": "protected-november",
   "metadata": {},
   "outputs": [],
   "source": [
    "something_do_with_positive_int.(1)"
   ]
  },
  {
   "cell_type": "markdown",
   "id": "moved-literature",
   "metadata": {},
   "source": [
    "## 高階関数\n",
    "\n",
    "引数に関数を取ったり、関数を返り値としたりする関数。"
   ]
  },
  {
   "cell_type": "code",
   "execution_count": null,
   "id": "sufficient-organization",
   "metadata": {},
   "outputs": [],
   "source": [
    "# 関数 f を受け取って, 2つの引数を f に適用する関数を返す関数\n",
    "my_apply2 = fn callback ->\n",
    "  # 引数を2つとる関数が返る\n",
    "  fn x, y -> callback.(x, y) end \n",
    "end"
   ]
  },
  {
   "cell_type": "code",
   "execution_count": null,
   "id": "indian-queens",
   "metadata": {},
   "outputs": [],
   "source": [
    "# 和と積を計算する関数を作る\n",
    "my_add = my_apply2.(fn x, y -> x + y end)\n",
    "my_mul = my_apply2.(&(&1 * &2))"
   ]
  },
  {
   "cell_type": "code",
   "execution_count": null,
   "id": "atomic-fabric",
   "metadata": {},
   "outputs": [],
   "source": [
    "IO.inspect my_add.(6, 7)\n",
    "IO.inspect my_mul.(6, 7)"
   ]
  },
  {
   "cell_type": "markdown",
   "id": "obvious-afternoon",
   "metadata": {},
   "source": [
    "### 練習問題\n",
    "\n",
    "第1引数と第2引数に数字，第3引数に引数を2つとる関数をとり, 第1引数と第2引数を第3引数の関数へ渡して実行する関数を作ってみよう。"
   ]
  },
  {
   "cell_type": "code",
   "execution_count": null,
   "id": "hollow-amber",
   "metadata": {},
   "outputs": [],
   "source": [
    "# Exercise 4-2\n",
    "func = # implement me!\n",
    "\n",
    "add = &(&1 + &2)\n",
    "func.(1, 2, add) == 3"
   ]
  },
  {
   "cell_type": "markdown",
   "id": "phantom-offset",
   "metadata": {},
   "source": [
    "## モジュールと名前付き関数\n",
    "\n",
    "- Elixirでは関連する関数をグループ化してモジュールとして管理する\n",
    "  - 処理を行う対象となるデータごとにモジュールを分割する事が多い。\n",
    "  - e.g.) 文字列を処理する`String`モジュールなど。他にも `List` モジュール、`Map` モジュール, `Enum` モジュールなど\n",
    "- モジュール名はUpperCamelCaseで表す\n",
    "- モジュール名を`.`で連結することで階層構造をもたせることができる\n",
    "  - ex. `Module.Submodule`\n",
    "- モジュール内で定義した関数は名前付き関数となる\n",
    "  - `def`でモジュール外から呼び出せるpublic関数を定義\n",
    "  - `defp`でモジュール内からしか呼び出せないprivate関数を定義\n"
   ]
  },
  {
   "cell_type": "code",
   "execution_count": null,
   "id": "forward-enforcement",
   "metadata": {},
   "outputs": [],
   "source": [
    "defmodule MyMath do\n",
    "  def add(x, y) do\n",
    "    x + y\n",
    "  end\n",
    "  \n",
    "  def multiple(x, y) do\n",
    "    x * y\n",
    "  end\n",
    "  \n",
    "  def get_sum_and_products(x, y) do\n",
    "    show_args(x, y)\n",
    "    {add(x, y), multiple(x, y)}\n",
    "  end\n",
    "  \n",
    "  defp show_args(x, y) do\n",
    "    IO.inspect \"Called with x: #{x}, y: #{y}\"\n",
    "  end\n",
    "end"
   ]
  },
  {
   "cell_type": "code",
   "execution_count": null,
   "id": "extensive-concrete",
   "metadata": {},
   "outputs": [],
   "source": [
    "MyMath.add(1, 2)"
   ]
  },
  {
   "cell_type": "code",
   "execution_count": null,
   "id": "human-jacket",
   "metadata": {},
   "outputs": [],
   "source": [
    "MyMath.multiple(2, 3)"
   ]
  },
  {
   "cell_type": "code",
   "execution_count": null,
   "id": "cleared-nutrition",
   "metadata": {},
   "outputs": [],
   "source": [
    "MyMath.get_sum_and_products(2, 3)"
   ]
  },
  {
   "cell_type": "code",
   "execution_count": null,
   "id": "acknowledged-snake",
   "metadata": {},
   "outputs": [],
   "source": [
    "MyMath.show_args(2, 3)\n",
    "# => %UndefinedFunctionError{arity: 2, function: :show_args, message: nil, module: MyMath, reason: nil}"
   ]
  },
  {
   "cell_type": "code",
   "execution_count": null,
   "id": "hourly-chapel",
   "metadata": {},
   "outputs": [],
   "source": [
    "# 名前付き関数適用時の括弧は省略可能\n",
    "MyMath.add 1, 2"
   ]
  },
  {
   "cell_type": "markdown",
   "id": "congressional-moldova",
   "metadata": {},
   "source": [
    "高階関数に名前付き関数を渡す時は、`&ModuleName.function_name/0`や`&function_name/0`のように、`/0`でarity(引数の数)を指定する。\n",
    "\n",
    "Elixirでは名前が同じでもarityが違う関数は異なるものとして扱われる。"
   ]
  },
  {
   "cell_type": "code",
   "execution_count": null,
   "id": "direct-scout",
   "metadata": {},
   "outputs": [],
   "source": [
    "defmodule Vegitable do\n",
    "  def apply_get_name(get_name_func) do\n",
    "    get_name_func.()\n",
    "  end\n",
    "\n",
    "  def apply_get_name(get_name_func, adjective) do\n",
    "    get_name_func.(adjective)\n",
    "  end\n",
    "end\n",
    "\n",
    "defmodule Vegitable.Tomato do\n",
    "  def get_name() do\n",
    "    \"tomato\"\n",
    "  end\n",
    "  \n",
    "  def get_name(adjective) do\n",
    "    \"#{adjective} tomato\"\n",
    "  end\n",
    "end"
   ]
  },
  {
   "cell_type": "code",
   "execution_count": null,
   "id": "wrapped-chosen",
   "metadata": {},
   "outputs": [],
   "source": [
    "Vegitable.apply_get_name(&Vegitable.Tomato.get_name/0)"
   ]
  },
  {
   "cell_type": "code",
   "execution_count": null,
   "id": "industrial-oklahoma",
   "metadata": {},
   "outputs": [],
   "source": [
    "Vegitable.apply_get_name(&Vegitable.Tomato.get_name/1, \"sweet\")"
   ]
  },
  {
   "cell_type": "code",
   "execution_count": null,
   "id": "related-debate",
   "metadata": {},
   "outputs": [],
   "source": [
    "Vegitable.apply_get_name(&Vegitable.Tomato.get_name/0, \"sweet\")\n",
    "# => UndefinedFunctionError"
   ]
  },
  {
   "cell_type": "markdown",
   "id": "partial-stretch",
   "metadata": {},
   "source": [
    "### 練習問題\n",
    "\n",
    "以下の仕様を満たすモジュールを定義してみよう\n",
    "- モジュール名は`Name`\n",
    "- 次のpublic関数を含む\n",
    "  - `get_first_name/1`: mapを受け取り`first_name`キーの値を返す\n",
    "  - `get_last_name/1`: mapを受け取り`last_name`キーの値を返す\n",
    "  - `get_full_name/1`: mapを受け取り、`first_name`キーの値に`last_name`キーの値を1スペース区切りで連結して返す"
   ]
  },
  {
   "cell_type": "code",
   "execution_count": null,
   "id": "executive-lighter",
   "metadata": {},
   "outputs": [],
   "source": [
    "# Exercise 4-3\n",
    "# implement Name module!\n",
    "\n",
    "name_map = %{first_name: \"Jose\", last_name: \"Valim\"}\n",
    "IO.inspect Name.get_first_name(name_map) == \"Jose\"\n",
    "IO.inspect Name.get_last_name(name_map) == \"Valim\"\n",
    "IO.inspect Name.get_full_name(name_map) == \"Jose Valim\""
   ]
  },
  {
   "cell_type": "markdown",
   "id": "constant-lightweight",
   "metadata": {},
   "source": [
    "### 名前付き関数の多重定義\n",
    "\n",
    "参考までに。\n",
    "\n",
    "同じ名前・同じarityの関数を複数定義することができる。\n",
    "\n",
    "引数のパターンにマッチする関数が実際に呼ばれる。"
   ]
  },
  {
   "cell_type": "code",
   "execution_count": null,
   "id": "negative-fifteen",
   "metadata": {},
   "outputs": [],
   "source": [
    "defmodule OverloadExample do\n",
    "  def ensure_success({:ok, _} = result) do\n",
    "    IO.puts \"Succeeded\"\n",
    "    result\n",
    "  end\n",
    "  \n",
    "  def ensure_success({:error, message} = result) do\n",
    "    IO.puts \"Failed (#{message})\"\n",
    "    result\n",
    "  end\n",
    "  \n",
    "  def ensure_success(_) do\n",
    "    IO.puts \"Something wrong\"\n",
    "    {:error, :bad_parameter}\n",
    "  end\n",
    "end"
   ]
  },
  {
   "cell_type": "code",
   "execution_count": null,
   "id": "approximate-kidney",
   "metadata": {},
   "outputs": [],
   "source": [
    "OverloadExample.ensure_success({:ok, 42})"
   ]
  },
  {
   "cell_type": "code",
   "execution_count": null,
   "id": "recorded-stack",
   "metadata": {},
   "outputs": [],
   "source": [
    "OverloadExample.ensure_success({:error, \"No answer is found\"})"
   ]
  },
  {
   "cell_type": "code",
   "execution_count": null,
   "id": "allied-expert",
   "metadata": {},
   "outputs": [],
   "source": [
    "OverloadExample.ensure_success(:bad)"
   ]
  },
  {
   "cell_type": "markdown",
   "id": "stylish-facility",
   "metadata": {},
   "source": [
    "### 関数の仕様(スペック)\n",
    "\n",
    "Elixirは動的型付け言語なので、ランタイム時の型チェックは難しい。\n",
    "\n",
    "しかし、型自体は存在しており、関数のスペック(引数や返り値の型)を表現することは可能。\n",
    "\n",
    "スペックを定義することで、静的解析ツールを用いてコンパイル時にチェックさせることが可能。\n"
   ]
  },
  {
   "cell_type": "code",
   "execution_count": null,
   "id": "compliant-infrared",
   "metadata": {},
   "outputs": [],
   "source": [
    "defmodule SpecExample do\n",
    "  @spec add(number, number) :: number\n",
    "  def add(x, y) do\n",
    "    x + y\n",
    "  end\n",
    "end"
   ]
  }
 ],
 "metadata": {
  "kernelspec": {
   "display_name": "Elixir",
   "language": "Elixir",
   "name": "ielixir"
  },
  "language_info": {
   "codemirror_mode": "elixir",
   "file_extension": "ex",
   "mimetype": "text/x-elixir",
   "name": "elixir",
   "nbconvert_exporter": "",
   "pygments_lexer": "elixir",
   "version": "1.11.2"
  }
 },
 "nbformat": 4,
 "nbformat_minor": 5
}
